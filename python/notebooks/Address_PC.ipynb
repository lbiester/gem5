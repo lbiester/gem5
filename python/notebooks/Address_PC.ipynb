{
 "cells": [
  {
   "cell_type": "markdown",
   "metadata": {},
   "source": [
    "## Address and PC Experiments\n",
    "\n",
    "In all experiments, I ran the bzip2 program with 100,000,000 instructions"
   ]
  },
  {
   "cell_type": "code",
   "execution_count": 9,
   "metadata": {},
   "outputs": [],
   "source": [
    "from collections import Counter\n",
    "\n",
    "import matplotlib.pyplot as plt\n",
    "import seaborn as sns"
   ]
  },
  {
   "cell_type": "code",
   "execution_count": 41,
   "metadata": {},
   "outputs": [],
   "source": [
    "ADDRESS_FILE_1 = \"../../spec_stats/address_pc_experiment/address.out.1\"\n",
    "PC_FILE_1 = \"../../spec_stats/address_pc_experiment/pc.out.1\"\n",
    "ADDRESS_FILE_2 = \"../../spec_stats/address_pc_experiment/address.out.2\"\n",
    "PC_FILE_2 = \"../../spec_stats/address_pc_experiment/pc.out.2\""
   ]
  },
  {
   "cell_type": "code",
   "execution_count": 42,
   "metadata": {},
   "outputs": [],
   "source": [
    "addresses_1 = [int(val) for val in open(ADDRESS_FILE_1).read().splitlines()]\n",
    "pcs_1 = [int(val) for val in open(PC_FILE_1).read().splitlines()]\n",
    "addresses_2 = [int(val) for val in open(ADDRESS_FILE_2).read().splitlines()]\n",
    "pcs_2 = [int(val) for val in open(PC_FILE_2).read().splitlines()]"
   ]
  },
  {
   "cell_type": "markdown",
   "metadata": {},
   "source": [
    "Q: How often does a program counter go back to the same address?\n",
    "\n",
    "A: quite frequently"
   ]
  },
  {
   "cell_type": "code",
   "execution_count": 36,
   "metadata": {},
   "outputs": [
    {
     "data": {
      "image/png": "[encoded data removed]",
      "text/plain": [
       "<Figure size 432x288 with 1 Axes>"
      ]
     },
     "metadata": {
      "needs_background": "light"
     },
     "output_type": "display_data"
    }
   ],
   "source": [
    "pc_counts = list(Counter(pcs_1).values())\n",
    "sns.distplot(pc_counts, kde=False, rug=True)\n",
    "plt.title(\"Number of times each PC was accessed\")\n",
    "plt.show()"
   ]
  },
  {
   "cell_type": "markdown",
   "metadata": {},
   "source": [
    "Q: Do PCs increase throughout program?\n",
    "\n",
    "A: **no** for the most part the PC is actually decreasing???"
   ]
  },
  {
   "cell_type": "code",
   "execution_count": 51,
   "metadata": {},
   "outputs": [
    {
     "name": "stdout",
     "output_type": "stream",
     "text": [
      "0.2498988103717673\n"
     ]
    }
   ],
   "source": [
    "increased = 0\n",
    "for i in range(1, len(pcs_1)):\n",
    "  if pcs_1[i] > pcs_1[i - 1]:\n",
    "    increased += 1\n",
    "print(increased / len(pcs_1))"
   ]
  },
  {
   "cell_type": "code",
   "execution_count": 39,
   "metadata": {},
   "outputs": [
    {
     "name": "stdout",
     "output_type": "stream",
     "text": [
      "Percent of PCs with multiple calls: 17.4565560821485\n"
     ]
    }
   ],
   "source": [
    "total_pcs = len(set(pcs_1))\n",
    "n_pcs_multiple = sum(1 for x in pc_counts if x > 1)\n",
    "print(\"Percent of PCs with multiple calls:\", 100 * n_pcs_multiple / total_pcs)"
   ]
  },
  {
   "cell_type": "markdown",
   "metadata": {},
   "source": [
    "Q: How long should our training period be? Can we figure out a cutoff where a large ratio of addresses have already been seen?\n",
    "\n",
    "A: Unfortunately with 100,000,000 instructions this looks largely linear."
   ]
  },
  {
   "cell_type": "code",
   "execution_count": 24,
   "metadata": {},
   "outputs": [],
   "source": [
    "total_addresses = len(set(addresses_1))\n",
    "seen_so_far = set()\n",
    "seen_at_timestep = []\n",
    "for address in addresses_1:\n",
    "  seen_so_far.add(address)\n",
    "  seen_at_timestep.append(len(seen_so_far))"
   ]
  },
  {
   "cell_type": "code",
   "execution_count": 40,
   "metadata": {},
   "outputs": [
    {
     "data": {
      "image/png": "[encoded data removed]",
      "text/plain": [
       "<Figure size 432x288 with 1 Axes>"
      ]
     },
     "metadata": {
      "needs_background": "light"
     },
     "output_type": "display_data"
    }
   ],
   "source": [
    "ax = sns.scatterplot(list(range(len(addresses_1))), seen_at_timestep, linewidth=0)\n",
    "ax.set(xlabel='Call to calculatePrefetch', ylabel='Number of Addresses')\n",
    "plt.title(\"Number of Addresses Seen at Each Timestep\")\n",
    "plt.show()"
   ]
  },
  {
   "cell_type": "markdown",
   "metadata": {},
   "source": [
    "Q: If we run the program twice, is the program counter the same?\n",
    "\n",
    "A: Between two runs, we see > 50% overlap in PCs (overall)"
   ]
  },
  {
   "cell_type": "code",
   "execution_count": 47,
   "metadata": {},
   "outputs": [
    {
     "name": "stdout",
     "output_type": "stream",
     "text": [
      "Amount of overlap in PCs: 0.6624671916010498\n"
     ]
    }
   ],
   "source": [
    "overlap = set(pcs_1).intersection(set(pcs_2))\n",
    "total = set(pcs_1).union(set(pcs_2))\n",
    "print(\"Amount of overlap in PCs:\", len(overlap) / len(total))"
   ]
  },
  {
   "cell_type": "markdown",
   "metadata": {},
   "source": [
    "Q: If we run the program twice, are the memory addresses the same?\n",
    "\n",
    "A: Between two runs, we see > 90% overlap in memory addresses (overall)\\\n",
    "This suggests that there is a strong relationship and I think we can assume that there is overlap generally."
   ]
  },
  {
   "cell_type": "code",
   "execution_count": 50,
   "metadata": {},
   "outputs": [
    {
     "name": "stdout",
     "output_type": "stream",
     "text": [
      "Amount of overlap in addresses: 0.915083519810787\n"
     ]
    }
   ],
   "source": [
    "overlap = set(addresses_1).intersection(set(addresses_2))\n",
    "total = set(addresses_1).union(set(addresses_2))\n",
    "print(\"Amount of overlap in addresses:\", len(overlap) / len(total))"
   ]
  },
  {
   "cell_type": "code",
   "execution_count": null,
   "metadata": {},
   "outputs": [],
   "source": []
  }
 ],
 "metadata": {
  "kernelspec": {
   "display_name": "Python 3",
   "language": "python",
   "name": "python3"
  },
  "language_info": {
   "codemirror_mode": {
    "name": "ipython",
    "version": 3
   },
   "file_extension": ".py",
   "mimetype": "text/x-python",
   "name": "python",
   "nbconvert_exporter": "python",
   "pygments_lexer": "ipython3",
   "version": "3.7.1"
  }
 },
 "nbformat": 4,
 "nbformat_minor": 2
}
